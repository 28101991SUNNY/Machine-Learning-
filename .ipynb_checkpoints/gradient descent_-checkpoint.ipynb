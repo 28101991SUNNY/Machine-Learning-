{
 "cells": [
  {
   "cell_type": "markdown",
   "id": "b81595d6",
   "metadata": {},
   "source": [
    "# Batch Gradient Descent"
   ]
  },
  {
   "cell_type": "raw",
   "id": "e140e4b7",
   "metadata": {},
   "source": []
  },
  {
   "cell_type": "code",
   "execution_count": null,
   "id": "fb6770ca",
   "metadata": {},
   "outputs": [],
   "source": []
  },
  {
   "cell_type": "markdown",
   "id": "469bc029",
   "metadata": {},
   "source": [
    "### Regression | Gradient Descent with one input and 1 output variable  : "
   ]
  },
  {
   "cell_type": "code",
   "execution_count": null,
   "id": "39205295",
   "metadata": {},
   "outputs": [],
   "source": []
  },
  {
   "cell_type": "code",
   "execution_count": 1,
   "id": "ad997d7a",
   "metadata": {},
   "outputs": [],
   "source": [
    "import numpy as np\n",
    "import seaborn as sns\n",
    "from sklearn.datasets import make_regression"
   ]
  },
  {
   "cell_type": "code",
   "execution_count": 2,
   "id": "fa69a357",
   "metadata": {},
   "outputs": [],
   "source": [
    "from sklearn.model_selection import cross_val_score"
   ]
  },
  {
   "cell_type": "code",
   "execution_count": null,
   "id": "59a5b783",
   "metadata": {},
   "outputs": [],
   "source": []
  },
  {
   "cell_type": "code",
   "execution_count": 3,
   "id": "51aafa2d",
   "metadata": {},
   "outputs": [],
   "source": [
    "x,y = make_regression(n_samples= 500,\n",
    "                     n_features= 1,\n",
    "                     n_informative= 1,\n",
    "                     n_targets=1,\n",
    "                     noise=20,\n",
    "                     random_state=13)"
   ]
  },
  {
   "cell_type": "code",
   "execution_count": null,
   "id": "e0111ebf",
   "metadata": {},
   "outputs": [],
   "source": []
  },
  {
   "cell_type": "code",
   "execution_count": 4,
   "id": "6780fb45",
   "metadata": {},
   "outputs": [
    {
     "data": {
      "application/javascript": [
       "\n",
       "        if (window._pyforest_update_imports_cell) { window._pyforest_update_imports_cell('import matplotlib.pyplot as plt'); }\n",
       "    "
      ],
      "text/plain": [
       "<IPython.core.display.Javascript object>"
      ]
     },
     "metadata": {},
     "output_type": "display_data"
    },
    {
     "data": {
      "text/plain": [
       "<matplotlib.collections.PathCollection at 0x166c73897c0>"
      ]
     },
     "execution_count": 4,
     "metadata": {},
     "output_type": "execute_result"
    },
    {
     "data": {
      "image/png": "[encoded data removed]",
      "text/plain": [
       "<Figure size 432x288 with 1 Axes>"
      ]
     },
     "metadata": {
      "needs_background": "light"
     },
     "output_type": "display_data"
    }
   ],
   "source": [
    "plt.scatter(x,y)"
   ]
  },
  {
   "cell_type": "code",
   "execution_count": null,
   "id": "f5241a03",
   "metadata": {},
   "outputs": [],
   "source": []
  },
  {
   "cell_type": "code",
   "execution_count": 5,
   "id": "cebe9284",
   "metadata": {},
   "outputs": [],
   "source": [
    "from sklearn.model_selection import train_test_split"
   ]
  },
  {
   "cell_type": "code",
   "execution_count": 6,
   "id": "f80fb9ea",
   "metadata": {},
   "outputs": [],
   "source": [
    "x_train ,x_test , y_train, y_test = train_test_split(x,y,test_size=0.2, random_state=2)"
   ]
  },
  {
   "cell_type": "code",
   "execution_count": null,
   "id": "76cdbd63",
   "metadata": {},
   "outputs": [],
   "source": []
  },
  {
   "cell_type": "code",
   "execution_count": 7,
   "id": "43eb4a0b",
   "metadata": {},
   "outputs": [],
   "source": [
    "from sklearn.linear_model import LinearRegression"
   ]
  },
  {
   "cell_type": "code",
   "execution_count": 8,
   "id": "9b51ff57",
   "metadata": {},
   "outputs": [],
   "source": [
    "Linear_reg = LinearRegression()"
   ]
  },
  {
   "cell_type": "code",
   "execution_count": null,
   "id": "5d5d61f6",
   "metadata": {},
   "outputs": [],
   "source": []
  },
  {
   "cell_type": "code",
   "execution_count": null,
   "id": "9f45c565",
   "metadata": {},
   "outputs": [],
   "source": []
  },
  {
   "cell_type": "code",
   "execution_count": null,
   "id": "3883de15",
   "metadata": {},
   "outputs": [],
   "source": []
  },
  {
   "cell_type": "code",
   "execution_count": 9,
   "id": "90a30148",
   "metadata": {},
   "outputs": [
    {
     "data": {
      "text/plain": [
       "LinearRegression()"
      ]
     },
     "execution_count": 9,
     "metadata": {},
     "output_type": "execute_result"
    }
   ],
   "source": [
    "Linear_reg.fit(x_train,y_train)"
   ]
  },
  {
   "cell_type": "code",
   "execution_count": 10,
   "id": "31205e26",
   "metadata": {},
   "outputs": [
    {
     "data": {
      "text/plain": [
       "array([24.96580541])"
      ]
     },
     "execution_count": 10,
     "metadata": {},
     "output_type": "execute_result"
    }
   ],
   "source": [
    "Linear_reg.coef_"
   ]
  },
  {
   "cell_type": "code",
   "execution_count": 11,
   "id": "d1328d50",
   "metadata": {},
   "outputs": [
    {
     "data": {
      "text/plain": [
       "-2.368122920727285"
      ]
     },
     "execution_count": 11,
     "metadata": {},
     "output_type": "execute_result"
    }
   ],
   "source": [
    "Linear_reg.intercept_"
   ]
  },
  {
   "cell_type": "code",
   "execution_count": null,
   "id": "77313be5",
   "metadata": {},
   "outputs": [],
   "source": []
  },
  {
   "cell_type": "code",
   "execution_count": 12,
   "id": "ea6f35cf",
   "metadata": {},
   "outputs": [],
   "source": [
    "m = Linear_reg.coef_[0]"
   ]
  },
  {
   "cell_type": "code",
   "execution_count": 13,
   "id": "aeaf2e51",
   "metadata": {},
   "outputs": [
    {
     "data": {
      "text/plain": [
       "24.965805407915756"
      ]
     },
     "execution_count": 13,
     "metadata": {},
     "output_type": "execute_result"
    }
   ],
   "source": [
    "m"
   ]
  },
  {
   "cell_type": "code",
   "execution_count": null,
   "id": "970466a7",
   "metadata": {},
   "outputs": [],
   "source": []
  },
  {
   "cell_type": "code",
   "execution_count": 14,
   "id": "838f16f0",
   "metadata": {},
   "outputs": [],
   "source": [
    "b_from_sklearn  = Linear_reg.intercept_"
   ]
  },
  {
   "cell_type": "code",
   "execution_count": 15,
   "id": "4b1d043d",
   "metadata": {},
   "outputs": [
    {
     "data": {
      "text/plain": [
       "(24.965805407915756, -2.368122920727285)"
      ]
     },
     "execution_count": 15,
     "metadata": {},
     "output_type": "execute_result"
    }
   ],
   "source": [
    "m,b_from_sklearn"
   ]
  },
  {
   "cell_type": "code",
   "execution_count": null,
   "id": "f76368d5",
   "metadata": {},
   "outputs": [],
   "source": []
  },
  {
   "cell_type": "code",
   "execution_count": 16,
   "id": "76f214fa",
   "metadata": {},
   "outputs": [
    {
     "data": {
      "text/plain": [
       "0.573333648281727"
      ]
     },
     "execution_count": 16,
     "metadata": {},
     "output_type": "execute_result"
    }
   ],
   "source": [
    "np.mean(cross_val_score(Linear_reg,x_train,y_train,scoring=\"r2\",cv = 10))"
   ]
  },
  {
   "cell_type": "code",
   "execution_count": 17,
   "id": "680efd16",
   "metadata": {},
   "outputs": [],
   "source": [
    "class GDRegressor:\n",
    "    \n",
    "    def __init__(self,learning_rate,epochs):\n",
    "        self.m = 24.965805407915756\n",
    "        self.b = -120\n",
    "        self.lr = learning_rate\n",
    "        self.epochs = epochs\n",
    "        \n",
    "    \n",
    "    def model_fit(self,x,y):\n",
    "        # calculate b using gradient descnet\n",
    "        \n",
    "        for i in range(self.epochs):\n",
    "            \n",
    "            loss_slope = -2* np.sum(y - self.m * x.ravel()- self.b)\n",
    "            \n",
    "            self.b = self.b - (self.lr * loss_slope)\n",
    "#             print(loss_slope,self.b)\n",
    "        print(self.b)\n",
    "        \n",
    "            \n",
    "            \n",
    "            \n",
    "    "
   ]
  },
  {
   "cell_type": "code",
   "execution_count": 18,
   "id": "347e5bd0",
   "metadata": {},
   "outputs": [],
   "source": [
    "gd = GDRegressor(0.001,10)"
   ]
  },
  {
   "cell_type": "code",
   "execution_count": 19,
   "id": "efa272e4",
   "metadata": {},
   "outputs": [
    {
     "name": "stdout",
     "output_type": "stream",
     "text": [
      "-2.3681349662314974\n"
     ]
    }
   ],
   "source": [
    "gd.model_fit(x_train,y_train)"
   ]
  },
  {
   "cell_type": "code",
   "execution_count": 20,
   "id": "497b1e1d",
   "metadata": {},
   "outputs": [
    {
     "data": {
      "text/plain": [
       "-2.368122920727285"
      ]
     },
     "execution_count": 20,
     "metadata": {},
     "output_type": "execute_result"
    }
   ],
   "source": [
    "b_from_sklearn"
   ]
  },
  {
   "cell_type": "code",
   "execution_count": null,
   "id": "f55b36ee",
   "metadata": {},
   "outputs": [],
   "source": []
  },
  {
   "cell_type": "code",
   "execution_count": null,
   "id": "53773e44",
   "metadata": {},
   "outputs": [],
   "source": []
  },
  {
   "cell_type": "code",
   "execution_count": null,
   "id": "756b0014",
   "metadata": {},
   "outputs": [],
   "source": []
  },
  {
   "cell_type": "code",
   "execution_count": null,
   "id": "ac58833f",
   "metadata": {},
   "outputs": [],
   "source": []
  },
  {
   "cell_type": "markdown",
   "id": "d299e8f6",
   "metadata": {},
   "source": [
    "    (y-mx-b)^2\n",
    "\n",
    "    y^2 + (mx)^2 + b^2 + 2(y)(-mx) + 2(-mx)(-b) + 2(y)(-b)\n",
    "\n",
    "    y^2 + x^2.m^2 + b^2 - 2mx y + 2 mx b - 2y\n",
    "\n",
    "    2b + 2mx \n",
    "\n",
    "    2(mx + b)\n"
   ]
  },
  {
   "attachments": {
    "image.png": {
     "image/png": "[encoded data removed]"
    }
   },
   "cell_type": "markdown",
   "id": "3c727d99",
   "metadata": {},
   "source": [
    "![image.png](attachment:image.png)"
   ]
  },
  {
   "cell_type": "code",
   "execution_count": null,
   "id": "22757abf",
   "metadata": {},
   "outputs": [],
   "source": []
  },
  {
   "cell_type": "code",
   "execution_count": null,
   "id": "78a2fda9",
   "metadata": {},
   "outputs": [],
   "source": []
  },
  {
   "cell_type": "code",
   "execution_count": null,
   "id": "28eb71b8",
   "metadata": {},
   "outputs": [],
   "source": []
  },
  {
   "cell_type": "code",
   "execution_count": null,
   "id": "d662fbee",
   "metadata": {},
   "outputs": [],
   "source": []
  },
  {
   "cell_type": "code",
   "execution_count": null,
   "id": "1bc525b4",
   "metadata": {},
   "outputs": [],
   "source": []
  },
  {
   "cell_type": "code",
   "execution_count": null,
   "id": "33155f18",
   "metadata": {},
   "outputs": [],
   "source": []
  },
  {
   "cell_type": "code",
   "execution_count": null,
   "id": "bfe973fb",
   "metadata": {},
   "outputs": [],
   "source": []
  },
  {
   "cell_type": "code",
   "execution_count": 21,
   "id": "da435801",
   "metadata": {},
   "outputs": [],
   "source": [
    "class GDRegressor:\n",
    "    \n",
    "    def __init__(self,learning_rate,epochs):\n",
    "        self.m = 100\n",
    "        self.b = -120\n",
    "        self.lr = learning_rate\n",
    "        self.epochs = epochs\n",
    "        \n",
    "    \n",
    "    def model_fit(self,x,y):\n",
    "        # calculate b using gradient descnet\n",
    "        \n",
    "        for i in range(self.epochs):\n",
    "            \n",
    "            loss_slope_wrt_b = -2* np.sum(y - self.m * x.ravel()- self.b)\n",
    "            \n",
    "            loss_slope_wrt_m = -2* np.sum((x.ravel()) * ( y -self.b - self.m * x.ravel() ))\n",
    "            \n",
    "            self.b = self.b - (self.lr * loss_slope_wrt_b)\n",
    "            \n",
    "            self.m = self.m - (self.lr * loss_slope_wrt_m)\n",
    "            \n",
    "            \n",
    "#             print(loss_slope,self.b)\n",
    "        print(self.b, self.m)\n",
    "        \n",
    "            \n",
    "    def predict_function(self,x):\n",
    "        return self.m * x + self.b\n",
    "            \n",
    "            \n",
    "    "
   ]
  },
  {
   "cell_type": "code",
   "execution_count": 22,
   "id": "bc2aeeaa",
   "metadata": {},
   "outputs": [],
   "source": [
    "gd = GDRegressor(0.001,100)"
   ]
  },
  {
   "cell_type": "code",
   "execution_count": 23,
   "id": "1359e711",
   "metadata": {},
   "outputs": [
    {
     "name": "stdout",
     "output_type": "stream",
     "text": [
      "-2.3681229207272847 24.965805407915745\n"
     ]
    }
   ],
   "source": [
    "gd.model_fit(x_train,y_train)"
   ]
  },
  {
   "cell_type": "code",
   "execution_count": 24,
   "id": "f4098362",
   "metadata": {
    "scrolled": false
   },
   "outputs": [],
   "source": [
    "# gd.predict_function(x)"
   ]
  },
  {
   "cell_type": "code",
   "execution_count": 25,
   "id": "4e47cc81",
   "metadata": {},
   "outputs": [],
   "source": [
    "y_predict = Linear_reg.predict(x_test)"
   ]
  },
  {
   "cell_type": "code",
   "execution_count": 26,
   "id": "a4867963",
   "metadata": {},
   "outputs": [],
   "source": [
    "from sklearn.metrics import r2_score"
   ]
  },
  {
   "cell_type": "code",
   "execution_count": 27,
   "id": "92b1cfe2",
   "metadata": {},
   "outputs": [
    {
     "data": {
      "text/plain": [
       "0.5942968938353169"
      ]
     },
     "execution_count": 27,
     "metadata": {},
     "output_type": "execute_result"
    }
   ],
   "source": [
    "r2_score(y_test,y_predict)"
   ]
  },
  {
   "cell_type": "code",
   "execution_count": null,
   "id": "e0d93174",
   "metadata": {},
   "outputs": [],
   "source": []
  },
  {
   "cell_type": "code",
   "execution_count": 28,
   "id": "644cacc5",
   "metadata": {
    "scrolled": true
   },
   "outputs": [
    {
     "data": {
      "text/plain": [
       "0.573333648281727"
      ]
     },
     "execution_count": 28,
     "metadata": {},
     "output_type": "execute_result"
    }
   ],
   "source": [
    "np.mean(cross_val_score(Linear_reg,x_train,y_train,scoring=\"r2\",cv = 10))"
   ]
  },
  {
   "cell_type": "code",
   "execution_count": null,
   "id": "406ee2bb",
   "metadata": {},
   "outputs": [],
   "source": []
  },
  {
   "cell_type": "code",
   "execution_count": 29,
   "id": "1d0ce87b",
   "metadata": {},
   "outputs": [
    {
     "data": {
      "text/plain": [
       "0.5942968938353169"
      ]
     },
     "execution_count": 29,
     "metadata": {},
     "output_type": "execute_result"
    }
   ],
   "source": [
    "y_predict = gd.predict_function(x_test)\n",
    "r2_score(y_test,y_predict)"
   ]
  },
  {
   "cell_type": "code",
   "execution_count": null,
   "id": "515ba62d",
   "metadata": {},
   "outputs": [],
   "source": []
  },
  {
   "cell_type": "code",
   "execution_count": 30,
   "id": "9da57169",
   "metadata": {},
   "outputs": [],
   "source": [
    "b = -520\n",
    "m = -600\n",
    "lr = 0.001\n",
    "all_b = []\n",
    "all_m = []\n",
    "all_cost = []\n",
    "\n",
    "epochs = 30\n",
    "\n",
    "for i in range(epochs):\n",
    "    slope_b = 0\n",
    "    slope_m = 0\n",
    "    cost = 0\n",
    "    for j in range(x.shape[0]):\n",
    "        slope_b = slope_b - 2*(y[j] - (m * x[j]) -  b)\n",
    "        slope_m = slope_m - 2*(y[j] - (m * x[j]) -  b)*x[j]\n",
    "        cost = cost + (y[j] - m * x[j] -b) ** 2\n",
    "\n",
    "    b = b - (lr * slope_b)\n",
    "    m = m - (lr * slope_m)\n",
    "    all_b.append(b)\n",
    "    all_m.append(m)\n",
    "    all_cost.append(cost)"
   ]
  },
  {
   "cell_type": "code",
   "execution_count": 31,
   "id": "276383ad",
   "metadata": {},
   "outputs": [],
   "source": [
    "%matplotlib notebook\n",
    "from matplotlib.animation import FuncAnimation\n",
    "import matplotlib.animation as animation"
   ]
  },
  {
   "cell_type": "code",
   "execution_count": 32,
   "id": "58558c6b",
   "metadata": {
    "scrolled": false
   },
   "outputs": [
    {
     "data": {
      "application/javascript": [
       "\n",
       "        if (window._pyforest_update_imports_cell) { window._pyforest_update_imports_cell('import matplotlib.pyplot as plt'); }\n",
       "    "
      ],
      "text/plain": [
       "<IPython.core.display.Javascript object>"
      ]
     },
     "metadata": {},
     "output_type": "display_data"
    },
    {
     "data": {
      "application/javascript": [
       "/* Put everything inside the global mpl namespace */\n",
       "/* global mpl */\n",
       "window.mpl = {};\n",
       "\n",
       "mpl.get_websocket_type = function () {\n",
       "    if (typeof WebSocket !== 'undefined') {\n",
       "        return WebSocket;\n",
       "    } else if (typeof MozWebSocket !== 'undefined') {\n",
       "        return MozWebSocket;\n",
       "    } else {\n",
       "        alert(\n",
       "            'Your browser does not have WebSocket support. ' +\n",
       "                'Please try Chrome, Safari or Firefox ≥ 6. ' +\n",
       "                'Firefox 4 and 5 are also supported but you ' +\n",
       "                'have to enable WebSockets in about:config.'\n",
       "        );\n",
       "    }\n",
       "};\n",
       "\n",
       "mpl.figure = function (figure_id, websocket, ondownload, parent_element) {\n",
       "    this.id = figure_id;\n",
       "\n",
       "    this.ws = websocket;\n",
       "\n",
       "    this.supports_binary = this.ws.binaryType !== undefined;\n",
       "\n",
       "    if (!this.supports_binary) {\n",
       "        var warnings = document.getElementById('mpl-warnings');\n",
       "        if (warnings) {\n",
       "            warnings.style.display = 'block';\n",
       "            warnings.textContent =\n",
       "                'This browser does not support binary websocket messages. ' +\n",
       "                'Performance may be slow.';\n",
       "        }\n",
       "    }\n",
       "\n",
       "    this.imageObj = new Image();\n",
       "\n",
       "    this.context = undefined;\n",
       "    this.message = undefined;\n",
       "    this.canvas = undefined;\n",
       "    this.rubberband_canvas = undefined;\n",
       "    this.rubberband_context = undefined;\n",
       "    this.format_dropdown = undefined;\n",
       "\n",
       "    this.image_mode = 'full';\n",
       "\n",
       "    this.root = document.createElement('div');\n",
       "    this.root.setAttribute('style', 'display: inline-block');\n",
       "    this._root_extra_style(this.root);\n",
       "\n",
       "    parent_element.appendChild(this.root);\n",
       "\n",
       "    this._init_header(this);\n",
       "    this._init_canvas(this);\n",
       "    this._init_toolbar(this);\n",
       "\n",
       "    var fig = this;\n",
       "\n",
       "    this.waiting = false;\n",
       "\n",
       "    this.ws.onopen = function () {\n",
       "        fig.send_message('supports_binary', { value: fig.supports_binary });\n",
       "        fig.send_message('send_image_mode', {});\n",
       "        if (fig.ratio !== 1) {\n",
       "            fig.send_message('set_dpi_ratio', { dpi_ratio: fig.ratio });\n",
       "        }\n",
       "        fig.send_message('refresh', {});\n",
       "    };\n",
       "\n",
       "    this.imageObj.onload = function () {\n",
       "        if (fig.image_mode === 'full') {\n",
       "            // Full images could contain transparency (where diff images\n",
       "            // almost always do), so we need to clear the canvas so that\n",
       "            // there is no ghosting.\n",
       "            fig.context.clearRect(0, 0, fig.canvas.width, fig.canvas.height);\n",
       "        }\n",
       "        fig.context.drawImage(fig.imageObj, 0, 0);\n",
       "    };\n",
       "\n",
       "    this.imageObj.onunload = function () {\n",
       "        fig.ws.close();\n",
       "    };\n",
       "\n",
       "    this.ws.onmessage = this._make_on_message_function(this);\n",
       "\n",
       "    this.ondownload = ondownload;\n",
       "};\n",
       "\n",
       "mpl.figure.prototype._init_header = function () {\n",
       "    var titlebar = document.createElement('div');\n",
       "    titlebar.classList =\n",
       "        'ui-dialog-titlebar ui-widget-header ui-corner-all ui-helper-clearfix';\n",
       "    var titletext = document.createElement('div');\n",
       "    titletext.classList = 'ui-dialog-title';\n",
       "    titletext.setAttribute(\n",
       "        'style',\n",
       "        'width: 100%; text-align: center; padding: 3px;'\n",
       "    );\n",
       "    titlebar.appendChild(titletext);\n",
       "    this.root.appendChild(titlebar);\n",
       "    this.header = titletext;\n",
       "};\n",
       "\n",
       "mpl.figure.prototype._canvas_extra_style = function (_canvas_div) {};\n",
       "\n",
       "mpl.figure.prototype._root_extra_style = function (_canvas_div) {};\n",
       "\n",
       "mpl.figure.prototype._init_canvas = function () {\n",
       "    var fig = this;\n",
       "\n",
       "    var canvas_div = (this.canvas_div = document.createElement('div'));\n",
       "    canvas_div.setAttribute(\n",
       "        'style',\n",
       "        'border: 1px solid #ddd;' +\n",
       "            'box-sizing: content-box;' +\n",
       "            'clear: both;' +\n",
       "            'min-height: 1px;' +\n",
       "            'min-width: 1px;' +\n",
       "            'outline: 0;' +\n",
       "            'overflow: hidden;' +\n",
       "            'position: relative;' +\n",
       "            'resize: both;'\n",
       "    );\n",
       "\n",
       "    function on_keyboard_event_closure(name) {\n",
       "        return function (event) {\n",
       "            return fig.key_event(event, name);\n",
       "        };\n",
       "    }\n",
       "\n",
       "    canvas_div.addEventListener(\n",
       "        'keydown',\n",
       "        on_keyboard_event_closure('key_press')\n",
       "    );\n",
       "    canvas_div.addEventListener(\n",
       "        'keyup',\n",
       "        on_keyboard_event_closure('key_release')\n",
       "    );\n",
       "\n",
       "    this._canvas_extra_style(canvas_div);\n",
       "    this.root.appendChild(canvas_div);\n",
       "\n",
       "    var canvas = (this.canvas = document.createElement('canvas'));\n",
       "    canvas.classList.add('mpl-canvas');\n",
       "    canvas.setAttribute('style', 'box-sizing: content-box;');\n",
       "\n",
       "    this.context = canvas.getContext('2d');\n",
       "\n",
       "    var backingStore =\n",
       "        this.context.backingStorePixelRatio ||\n",
       "        this.context.webkitBackingStorePixelRatio ||\n",
       "        this.context.mozBackingStorePixelRatio ||\n",
       "        this.context.msBackingStorePixelRatio ||\n",
       "        this.context.oBackingStorePixelRatio ||\n",
       "        this.context.backingStorePixelRatio ||\n",
       "        1;\n",
       "\n",
       "    this.ratio = (window.devicePixelRatio || 1) / backingStore;\n",
       "\n",
       "    var rubberband_canvas = (this.rubberband_canvas = document.createElement(\n",
       "        'canvas'\n",
       "    ));\n",
       "    rubberband_canvas.setAttribute(\n",
       "        'style',\n",
       "        'box-sizing: content-box; position: absolute; left: 0; top: 0; z-index: 1;'\n",
       "    );\n",
       "\n",
       "    // Apply a ponyfill if ResizeObserver is not implemented by browser.\n",
       "    if (this.ResizeObserver === undefined) {\n",
       "        if (window.ResizeObserver !== undefined) {\n",
       "            this.ResizeObserver = window.ResizeObserver;\n",
       "        } else {\n",
       "            var obs = _JSXTOOLS_RESIZE_OBSERVER({});\n",
       "            this.ResizeObserver = obs.ResizeObserver;\n",
       "        }\n",
       "    }\n",
       "\n",
       "    this.resizeObserverInstance = new this.ResizeObserver(function (entries) {\n",
       "        var nentries = entries.length;\n",
       "        for (var i = 0; i < nentries; i++) {\n",
       "            var entry = entries[i];\n",
       "            var width, height;\n",
       "            if (entry.contentBoxSize) {\n",
       "                if (entry.contentBoxSize instanceof Array) {\n",
       "                    // Chrome 84 implements new version of spec.\n",
       "                    width = entry.contentBoxSize[0].inlineSize;\n",
       "                    height = entry.contentBoxSize[0].blockSize;\n",
       "                } else {\n",
       "                    // Firefox implements old version of spec.\n",
       "                    width = entry.contentBoxSize.inlineSize;\n",
       "                    height = entry.contentBoxSize.blockSize;\n",
       "                }\n",
       "            } else {\n",
       "                // Chrome <84 implements even older version of spec.\n",
       "                width = entry.contentRect.width;\n",
       "                height = entry.contentRect.height;\n",
       "            }\n",
       "\n",
       "            // Keep the size of the canvas and rubber band canvas in sync with\n",
       "            // the canvas container.\n",
       "            if (entry.devicePixelContentBoxSize) {\n",
       "                // Chrome 84 implements new version of spec.\n",
       "                canvas.setAttribute(\n",
       "                    'width',\n",
       "                    entry.devicePixelContentBoxSize[0].inlineSize\n",
       "                );\n",
       "                canvas.setAttribute(\n",
       "                    'height',\n",
       "                    entry.devicePixelContentBoxSize[0].blockSize\n",
       "                );\n",
       "            } else {\n",
       "                canvas.setAttribute('width', width * fig.ratio);\n",
       "                canvas.setAttribute('height', height * fig.ratio);\n",
       "            }\n",
       "            canvas.setAttribute(\n",
       "                'style',\n",
       "                'width: ' + width + 'px; height: ' + height + 'px;'\n",
       "            );\n",
       "\n",
       "            rubberband_canvas.setAttribute('width', width);\n",
       "            rubberband_canvas.setAttribute('height', height);\n",
       "\n",
       "            // And update the size in Python. We ignore the initial 0/0 size\n",
       "            // that occurs as the element is placed into the DOM, which should\n",
       "            // otherwise not happen due to the minimum size styling.\n",
       "            if (fig.ws.readyState == 1 && width != 0 && height != 0) {\n",
       "                fig.request_resize(width, height);\n",
       "            }\n",
       "        }\n",
       "    });\n",
       "    this.resizeObserverInstance.observe(canvas_div);\n",
       "\n",
       "    function on_mouse_event_closure(name) {\n",
       "        return function (event) {\n",
       "            return fig.mouse_event(event, name);\n",
       "        };\n",
       "    }\n",
       "\n",
       "    rubberband_canvas.addEventListener(\n",
       "        'mousedown',\n",
       "        on_mouse_event_closure('button_press')\n",
       "    );\n",
       "    rubberband_canvas.addEventListener(\n",
       "        'mouseup',\n",
       "        on_mouse_event_closure('button_release')\n",
       "    );\n",
       "    rubberband_canvas.addEventListener(\n",
       "        'dblclick',\n",
       "        on_mouse_event_closure('dblclick')\n",
       "    );\n",
       "    // Throttle sequential mouse events to 1 every 20ms.\n",
       "    rubberband_canvas.addEventListener(\n",
       "        'mousemove',\n",
       "        on_mouse_event_closure('motion_notify')\n",
       "    );\n",
       "\n",
       "    rubberband_canvas.addEventListener(\n",
       "        'mouseenter',\n",
       "        on_mouse_event_closure('figure_enter')\n",
       "    );\n",
       "    rubberband_canvas.addEventListener(\n",
       "        'mouseleave',\n",
       "        on_mouse_event_closure('figure_leave')\n",
       "    );\n",
       "\n",
       "    canvas_div.addEventListener('wheel', function (event) {\n",
       "        if (event.deltaY < 0) {\n",
       "            event.step = 1;\n",
       "        } else {\n",
       "            event.step = -1;\n",
       "        }\n",
       "        on_mouse_event_closure('scroll')(event);\n",
       "    });\n",
       "\n",
       "    canvas_div.appendChild(canvas);\n",
       "    canvas_div.appendChild(rubberband_canvas);\n",
       "\n",
       "    this.rubberband_context = rubberband_canvas.getContext('2d');\n",
       "    this.rubberband_context.strokeStyle = '#000000';\n",
       "\n",
       "    this._resize_canvas = function (width, height, forward) {\n",
       "        if (forward) {\n",
       "            canvas_div.style.width = width + 'px';\n",
       "            canvas_div.style.height = height + 'px';\n",
       "        }\n",
       "    };\n",
       "\n",
       "    // Disable right mouse context menu.\n",
       "    this.rubberband_canvas.addEventListener('contextmenu', function (_e) {\n",
       "        event.preventDefault();\n",
       "        return false;\n",
       "    });\n",
       "\n",
       "    function set_focus() {\n",
       "        canvas.focus();\n",
       "        canvas_div.focus();\n",
       "    }\n",
       "\n",
       "    window.setTimeout(set_focus, 100);\n",
       "};\n",
       "\n",
       "mpl.figure.prototype._init_toolbar = function () {\n",
       "    var fig = this;\n",
       "\n",
       "    var toolbar = document.createElement('div');\n",
       "    toolbar.classList = 'mpl-toolbar';\n",
       "    this.root.appendChild(toolbar);\n",
       "\n",
       "    function on_click_closure(name) {\n",
       "        return function (_event) {\n",
       "            return fig.toolbar_button_onclick(name);\n",
       "        };\n",
       "    }\n",
       "\n",
       "    function on_mouseover_closure(tooltip) {\n",
       "        return function (event) {\n",
       "            if (!event.currentTarget.disabled) {\n",
       "                return fig.toolbar_button_onmouseover(tooltip);\n",
       "            }\n",
       "        };\n",
       "    }\n",
       "\n",
       "    fig.buttons = {};\n",
       "    var buttonGroup = document.createElement('div');\n",
       "    buttonGroup.classList = 'mpl-button-group';\n",
       "    for (var toolbar_ind in mpl.toolbar_items) {\n",
       "        var name = mpl.toolbar_items[toolbar_ind][0];\n",
       "        var tooltip = mpl.toolbar_items[toolbar_ind][1];\n",
       "        var image = mpl.toolbar_items[toolbar_ind][2];\n",
       "        var method_name = mpl.toolbar_items[toolbar_ind][3];\n",
       "\n",
       "        if (!name) {\n",
       "            /* Instead of a spacer, we start a new button group. */\n",
       "            if (buttonGroup.hasChildNodes()) {\n",
       "                toolbar.appendChild(buttonGroup);\n",
       "            }\n",
       "            buttonGroup = document.createElement('div');\n",
       "            buttonGroup.classList = 'mpl-button-group';\n",
       "            continue;\n",
       "        }\n",
       "\n",
       "        var button = (fig.buttons[name] = document.createElement('button'));\n",
       "        button.classList = 'mpl-widget';\n",
       "        button.setAttribute('role', 'button');\n",
       "        button.setAttribute('aria-disabled', 'false');\n",
       "        button.addEventListener('click', on_click_closure(method_name));\n",
       "        button.addEventListener('mouseover', on_mouseover_closure(tooltip));\n",
       "\n",
       "        var icon_img = document.createElement('img');\n",
       "        icon_img.src = '_images/' + image + '.png';\n",
       "        icon_img.srcset = '_images/' + image + '_large.png 2x';\n",
       "        icon_img.alt = tooltip;\n",
       "        button.appendChild(icon_img);\n",
       "\n",
       "        buttonGroup.appendChild(button);\n",
       "    }\n",
       "\n",
       "    if (buttonGroup.hasChildNodes()) {\n",
       "        toolbar.appendChild(buttonGroup);\n",
       "    }\n",
       "\n",
       "    var fmt_picker = document.createElement('select');\n",
       "    fmt_picker.classList = 'mpl-widget';\n",
       "    toolbar.appendChild(fmt_picker);\n",
       "    this.format_dropdown = fmt_picker;\n",
       "\n",
       "    for (var ind in mpl.extensions) {\n",
       "        var fmt = mpl.extensions[ind];\n",
       "        var option = document.createElement('option');\n",
       "        option.selected = fmt === mpl.default_extension;\n",
       "        option.innerHTML = fmt;\n",
       "        fmt_picker.appendChild(option);\n",
       "    }\n",
       "\n",
       "    var status_bar = document.createElement('span');\n",
       "    status_bar.classList = 'mpl-message';\n",
       "    toolbar.appendChild(status_bar);\n",
       "    this.message = status_bar;\n",
       "};\n",
       "\n",
       "mpl.figure.prototype.request_resize = function (x_pixels, y_pixels) {\n",
       "    // Request matplotlib to resize the figure. Matplotlib will then trigger a resize in the client,\n",
       "    // which will in turn request a refresh of the image.\n",
       "    this.send_message('resize', { width: x_pixels, height: y_pixels });\n",
       "};\n",
       "\n",
       "mpl.figure.prototype.send_message = function (type, properties) {\n",
       "    properties['type'] = type;\n",
       "    properties['figure_id'] = this.id;\n",
       "    this.ws.send(JSON.stringify(properties));\n",
       "};\n",
       "\n",
       "mpl.figure.prototype.send_draw_message = function () {\n",
       "    if (!this.waiting) {\n",
       "        this.waiting = true;\n",
       "        this.ws.send(JSON.stringify({ type: 'draw', figure_id: this.id }));\n",
       "    }\n",
       "};\n",
       "\n",
       "mpl.figure.prototype.handle_save = function (fig, _msg) {\n",
       "    var format_dropdown = fig.format_dropdown;\n",
       "    var format = format_dropdown.options[format_dropdown.selectedIndex].value;\n",
       "    fig.ondownload(fig, format);\n",
       "};\n",
       "\n",
       "mpl.figure.prototype.handle_resize = function (fig, msg) {\n",
       "    var size = msg['size'];\n",
       "    if (size[0] !== fig.canvas.width || size[1] !== fig.canvas.height) {\n",
       "        fig._resize_canvas(size[0], size[1], msg['forward']);\n",
       "        fig.send_message('refresh', {});\n",
       "    }\n",
       "};\n",
       "\n",
       "mpl.figure.prototype.handle_rubberband = function (fig, msg) {\n",
       "    var x0 = msg['x0'] / fig.ratio;\n",
       "    var y0 = (fig.canvas.height - msg['y0']) / fig.ratio;\n",
       "    var x1 = msg['x1'] / fig.ratio;\n",
       "    var y1 = (fig.canvas.height - msg['y1']) / fig.ratio;\n",
       "    x0 = Math.floor(x0) + 0.5;\n",
       "    y0 = Math.floor(y0) + 0.5;\n",
       "    x1 = Math.floor(x1) + 0.5;\n",
       "    y1 = Math.floor(y1) + 0.5;\n",
       "    var min_x = Math.min(x0, x1);\n",
       "    var min_y = Math.min(y0, y1);\n",
       "    var width = Math.abs(x1 - x0);\n",
       "    var height = Math.abs(y1 - y0);\n",
       "\n",
       "    fig.rubberband_context.clearRect(\n",
       "        0,\n",
       "        0,\n",
       "        fig.canvas.width / fig.ratio,\n",
       "        fig.canvas.height / fig.ratio\n",
       "    );\n",
       "\n",
       "    fig.rubberband_context.strokeRect(min_x, min_y, width, height);\n",
       "};\n",
       "\n",
       "mpl.figure.prototype.handle_figure_label = function (fig, msg) {\n",
       "    // Updates the figure title.\n",
       "    fig.header.textContent = msg['label'];\n",
       "};\n",
       "\n",
       "mpl.figure.prototype.handle_cursor = function (fig, msg) {\n",
       "    var cursor = msg['cursor'];\n",
       "    switch (cursor) {\n",
       "        case 0:\n",
       "            cursor = 'pointer';\n",
       "            break;\n",
       "        case 1:\n",
       "            cursor = 'default';\n",
       "            break;\n",
       "        case 2:\n",
       "            cursor = 'crosshair';\n",
       "            break;\n",
       "        case 3:\n",
       "            cursor = 'move';\n",
       "            break;\n",
       "    }\n",
       "    fig.rubberband_canvas.style.cursor = cursor;\n",
       "};\n",
       "\n",
       "mpl.figure.prototype.handle_message = function (fig, msg) {\n",
       "    fig.message.textContent = msg['message'];\n",
       "};\n",
       "\n",
       "mpl.figure.prototype.handle_draw = function (fig, _msg) {\n",
       "    // Request the server to send over a new figure.\n",
       "    fig.send_draw_message();\n",
       "};\n",
       "\n",
       "mpl.figure.prototype.handle_image_mode = function (fig, msg) {\n",
       "    fig.image_mode = msg['mode'];\n",
       "};\n",
       "\n",
       "mpl.figure.prototype.handle_history_buttons = function (fig, msg) {\n",
       "    for (var key in msg) {\n",
       "        if (!(key in fig.buttons)) {\n",
       "            continue;\n",
       "        }\n",
       "        fig.buttons[key].disabled = !msg[key];\n",
       "        fig.buttons[key].setAttribute('aria-disabled', !msg[key]);\n",
       "    }\n",
       "};\n",
       "\n",
       "mpl.figure.prototype.handle_navigate_mode = function (fig, msg) {\n",
       "    if (msg['mode'] === 'PAN') {\n",
       "        fig.buttons['Pan'].classList.add('active');\n",
       "        fig.buttons['Zoom'].classList.remove('active');\n",
       "    } else if (msg['mode'] === 'ZOOM') {\n",
       "        fig.buttons['Pan'].classList.remove('active');\n",
       "        fig.buttons['Zoom'].classList.add('active');\n",
       "    } else {\n",
       "        fig.buttons['Pan'].classList.remove('active');\n",
       "        fig.buttons['Zoom'].classList.remove('active');\n",
       "    }\n",
       "};\n",
       "\n",
       "mpl.figure.prototype.updated_canvas_event = function () {\n",
       "    // Called whenever the canvas gets updated.\n",
       "    this.send_message('ack', {});\n",
       "};\n",
       "\n",
       "// A function to construct a web socket function for onmessage handling.\n",
       "// Called in the figure constructor.\n",
       "mpl.figure.prototype._make_on_message_function = function (fig) {\n",
       "    return function socket_on_message(evt) {\n",
       "        if (evt.data instanceof Blob) {\n",
       "            var img = evt.data;\n",
       "            if (img.type !== 'image/png') {\n",
       "                /* FIXME: We get \"Resource interpreted as Image but\n",
       "                 * transferred with MIME type text/plain:\" errors on\n",
       "                 * Chrome.  But how to set the MIME type?  It doesn't seem\n",
       "                 * to be part of the websocket stream */\n",
       "                img.type = 'image/png';\n",
       "            }\n",
       "\n",
       "            /* Free the memory for the previous frames */\n",
       "            if (fig.imageObj.src) {\n",
       "                (window.URL || window.webkitURL).revokeObjectURL(\n",
       "                    fig.imageObj.src\n",
       "                );\n",
       "            }\n",
       "\n",
       "            fig.imageObj.src = (window.URL || window.webkitURL).createObjectURL(\n",
       "                img\n",
       "            );\n",
       "            fig.updated_canvas_event();\n",
       "            fig.waiting = false;\n",
       "            return;\n",
       "        } else if (\n",
       "            typeof evt.data === 'string' &&\n",
       "            evt.data.slice(0, 21) === 'data:image/png;base64'\n",
       "        ) {\n",
       "            fig.imageObj.src = evt.data;\n",
       "            fig.updated_canvas_event();\n",
       "            fig.waiting = false;\n",
       "            return;\n",
       "        }\n",
       "\n",
       "        var msg = JSON.parse(evt.data);\n",
       "        var msg_type = msg['type'];\n",
       "\n",
       "        // Call the  \"handle_{type}\" callback, which takes\n",
       "        // the figure and JSON message as its only arguments.\n",
       "        try {\n",
       "            var callback = fig['handle_' + msg_type];\n",
       "        } catch (e) {\n",
       "            console.log(\n",
       "                \"No handler for the '\" + msg_type + \"' message type: \",\n",
       "                msg\n",
       "            );\n",
       "            return;\n",
       "        }\n",
       "\n",
       "        if (callback) {\n",
       "            try {\n",
       "                // console.log(\"Handling '\" + msg_type + \"' message: \", msg);\n",
       "                callback(fig, msg);\n",
       "            } catch (e) {\n",
       "                console.log(\n",
       "                    \"Exception inside the 'handler_\" + msg_type + \"' callback:\",\n",
       "                    e,\n",
       "                    e.stack,\n",
       "                    msg\n",
       "                );\n",
       "            }\n",
       "        }\n",
       "    };\n",
       "};\n",
       "\n",
       "// from http://stackoverflow.com/questions/1114465/getting-mouse-location-in-canvas\n",
       "mpl.findpos = function (e) {\n",
       "    //this section is from http://www.quirksmode.org/js/events_properties.html\n",
       "    var targ;\n",
       "    if (!e) {\n",
       "        e = window.event;\n",
       "    }\n",
       "    if (e.target) {\n",
       "        targ = e.target;\n",
       "    } else if (e.srcElement) {\n",
       "        targ = e.srcElement;\n",
       "    }\n",
       "    if (targ.nodeType === 3) {\n",
       "        // defeat Safari bug\n",
       "        targ = targ.parentNode;\n",
       "    }\n",
       "\n",
       "    // pageX,Y are the mouse positions relative to the document\n",
       "    var boundingRect = targ.getBoundingClientRect();\n",
       "    var x = e.pageX - (boundingRect.left + document.body.scrollLeft);\n",
       "    var y = e.pageY - (boundingRect.top + document.body.scrollTop);\n",
       "\n",
       "    return { x: x, y: y };\n",
       "};\n",
       "\n",
       "/*\n",
       " * return a copy of an object with only non-object keys\n",
       " * we need this to avoid circular references\n",
       " * http://stackoverflow.com/a/24161582/3208463\n",
       " */\n",
       "function simpleKeys(original) {\n",
       "    return Object.keys(original).reduce(function (obj, key) {\n",
       "        if (typeof original[key] !== 'object') {\n",
       "            obj[key] = original[key];\n",
       "        }\n",
       "        return obj;\n",
       "    }, {});\n",
       "}\n",
       "\n",
       "mpl.figure.prototype.mouse_event = function (event, name) {\n",
       "    var canvas_pos = mpl.findpos(event);\n",
       "\n",
       "    if (name === 'button_press') {\n",
       "        this.canvas.focus();\n",
       "        this.canvas_div.focus();\n",
       "    }\n",
       "\n",
       "    var x = canvas_pos.x * this.ratio;\n",
       "    var y = canvas_pos.y * this.ratio;\n",
       "\n",
       "    this.send_message(name, {\n",
       "        x: x,\n",
       "        y: y,\n",
       "        button: event.button,\n",
       "        step: event.step,\n",
       "        guiEvent: simpleKeys(event),\n",
       "    });\n",
       "\n",
       "    /* This prevents the web browser from automatically changing to\n",
       "     * the text insertion cursor when the button is pressed.  We want\n",
       "     * to control all of the cursor setting manually through the\n",
       "     * 'cursor' event from matplotlib */\n",
       "    event.preventDefault();\n",
       "    return false;\n",
       "};\n",
       "\n",
       "mpl.figure.prototype._key_event_extra = function (_event, _name) {\n",
       "    // Handle any extra behaviour associated with a key event\n",
       "};\n",
       "\n",
       "mpl.figure.prototype.key_event = function (event, name) {\n",
       "    // Prevent repeat events\n",
       "    if (name === 'key_press') {\n",
       "        if (event.key === this._key) {\n",
       "            return;\n",
       "        } else {\n",
       "            this._key = event.key;\n",
       "        }\n",
       "    }\n",
       "    if (name === 'key_release') {\n",
       "        this._key = null;\n",
       "    }\n",
       "\n",
       "    var value = '';\n",
       "    if (event.ctrlKey && event.key !== 'Control') {\n",
       "        value += 'ctrl+';\n",
       "    }\n",
       "    else if (event.altKey && event.key !== 'Alt') {\n",
       "        value += 'alt+';\n",
       "    }\n",
       "    else if (event.shiftKey && event.key !== 'Shift') {\n",
       "        value += 'shift+';\n",
       "    }\n",
       "\n",
       "    value += 'k' + event.key;\n",
       "\n",
       "    this._key_event_extra(event, name);\n",
       "\n",
       "    this.send_message(name, { key: value, guiEvent: simpleKeys(event) });\n",
       "    return false;\n",
       "};\n",
       "\n",
       "mpl.figure.prototype.toolbar_button_onclick = function (name) {\n",
       "    if (name === 'download') {\n",
       "        this.handle_save(this, null);\n",
       "    } else {\n",
       "        this.send_message('toolbar_button', { name: name });\n",
       "    }\n",
       "};\n",
       "\n",
       "mpl.figure.prototype.toolbar_button_onmouseover = function (tooltip) {\n",
       "    this.message.textContent = tooltip;\n",
       "};\n",
       "\n",
       "///////////////// REMAINING CONTENT GENERATED BY embed_js.py /////////////////\n",
       "// prettier-ignore\n",
       "var _JSXTOOLS_RESIZE_OBSERVER=function(A){var t,i=new WeakMap,n=new WeakMap,a=new WeakMap,r=new WeakMap,o=new Set;function s(e){if(!(this instanceof s))throw new TypeError(\"Constructor requires 'new' operator\");i.set(this,e)}function h(){throw new TypeError(\"Function is not a constructor\")}function c(e,t,i,n){e=0 in arguments?Number(arguments[0]):0,t=1 in arguments?Number(arguments[1]):0,i=2 in arguments?Number(arguments[2]):0,n=3 in arguments?Number(arguments[3]):0,this.right=(this.x=this.left=e)+(this.width=i),this.bottom=(this.y=this.top=t)+(this.height=n),Object.freeze(this)}function d(){t=requestAnimationFrame(d);var s=new WeakMap,p=new Set;o.forEach((function(t){r.get(t).forEach((function(i){var r=t instanceof window.SVGElement,o=a.get(t),d=r?0:parseFloat(o.paddingTop),f=r?0:parseFloat(o.paddingRight),l=r?0:parseFloat(o.paddingBottom),u=r?0:parseFloat(o.paddingLeft),g=r?0:parseFloat(o.borderTopWidth),m=r?0:parseFloat(o.borderRightWidth),w=r?0:parseFloat(o.borderBottomWidth),b=u+f,F=d+l,v=(r?0:parseFloat(o.borderLeftWidth))+m,W=g+w,y=r?0:t.offsetHeight-W-t.clientHeight,E=r?0:t.offsetWidth-v-t.clientWidth,R=b+v,z=F+W,M=r?t.width:parseFloat(o.width)-R-E,O=r?t.height:parseFloat(o.height)-z-y;if(n.has(t)){var k=n.get(t);if(k[0]===M&&k[1]===O)return}n.set(t,[M,O]);var S=Object.create(h.prototype);S.target=t,S.contentRect=new c(u,d,M,O),s.has(i)||(s.set(i,[]),p.add(i)),s.get(i).push(S)}))})),p.forEach((function(e){i.get(e).call(e,s.get(e),e)}))}return s.prototype.observe=function(i){if(i instanceof window.Element){r.has(i)||(r.set(i,new Set),o.add(i),a.set(i,window.getComputedStyle(i)));var n=r.get(i);n.has(this)||n.add(this),cancelAnimationFrame(t),t=requestAnimationFrame(d)}},s.prototype.unobserve=function(i){if(i instanceof window.Element&&r.has(i)){var n=r.get(i);n.has(this)&&(n.delete(this),n.size||(r.delete(i),o.delete(i))),n.size||r.delete(i),o.size||cancelAnimationFrame(t)}},A.DOMRectReadOnly=c,A.ResizeObserver=s,A.ResizeObserverEntry=h,A}; // eslint-disable-line\n",
       "mpl.toolbar_items = [[\"Home\", \"Reset original view\", \"fa fa-home icon-home\", \"home\"], [\"Back\", \"Back to previous view\", \"fa fa-arrow-left icon-arrow-left\", \"back\"], [\"Forward\", \"Forward to next view\", \"fa fa-arrow-right icon-arrow-right\", \"forward\"], [\"\", \"\", \"\", \"\"], [\"Pan\", \"Left button pans, Right button zooms\\nx/y fixes axis, CTRL fixes aspect\", \"fa fa-arrows icon-move\", \"pan\"], [\"Zoom\", \"Zoom to rectangle\\nx/y fixes axis, CTRL fixes aspect\", \"fa fa-square-o icon-check-empty\", \"zoom\"], [\"\", \"\", \"\", \"\"], [\"Download\", \"Download plot\", \"fa fa-floppy-o icon-save\", \"download\"]];\n",
       "\n",
       "mpl.extensions = [\"eps\", \"jpeg\", \"pgf\", \"pdf\", \"png\", \"ps\", \"raw\", \"svg\", \"tif\"];\n",
       "\n",
       "mpl.default_extension = \"png\";/* global mpl */\n",
       "\n",
       "var comm_websocket_adapter = function (comm) {\n",
       "    // Create a \"websocket\"-like object which calls the given IPython comm\n",
       "    // object with the appropriate methods. Currently this is a non binary\n",
       "    // socket, so there is still some room for performance tuning.\n",
       "    var ws = {};\n",
       "\n",
       "    ws.binaryType = comm.kernel.ws.binaryType;\n",
       "    ws.readyState = comm.kernel.ws.readyState;\n",
       "    function updateReadyState(_event) {\n",
       "        if (comm.kernel.ws) {\n",
       "            ws.readyState = comm.kernel.ws.readyState;\n",
       "        } else {\n",
       "            ws.readyState = 3; // Closed state.\n",
       "        }\n",
       "    }\n",
       "    comm.kernel.ws.addEventListener('open', updateReadyState);\n",
       "    comm.kernel.ws.addEventListener('close', updateReadyState);\n",
       "    comm.kernel.ws.addEventListener('error', updateReadyState);\n",
       "\n",
       "    ws.close = function () {\n",
       "        comm.close();\n",
       "    };\n",
       "    ws.send = function (m) {\n",
       "        //console.log('sending', m);\n",
       "        comm.send(m);\n",
       "    };\n",
       "    // Register the callback with on_msg.\n",
       "    comm.on_msg(function (msg) {\n",
       "        //console.log('receiving', msg['content']['data'], msg);\n",
       "        var data = msg['content']['data'];\n",
       "        if (data['blob'] !== undefined) {\n",
       "            data = {\n",
       "                data: new Blob(msg['buffers'], { type: data['blob'] }),\n",
       "            };\n",
       "        }\n",
       "        // Pass the mpl event to the overridden (by mpl) onmessage function.\n",
       "        ws.onmessage(data);\n",
       "    });\n",
       "    return ws;\n",
       "};\n",
       "\n",
       "mpl.mpl_figure_comm = function (comm, msg) {\n",
       "    // This is the function which gets called when the mpl process\n",
       "    // starts-up an IPython Comm through the \"matplotlib\" channel.\n",
       "\n",
       "    var id = msg.content.data.id;\n",
       "    // Get hold of the div created by the display call when the Comm\n",
       "    // socket was opened in Python.\n",
       "    var element = document.getElementById(id);\n",
       "    var ws_proxy = comm_websocket_adapter(comm);\n",
       "\n",
       "    function ondownload(figure, _format) {\n",
       "        window.open(figure.canvas.toDataURL());\n",
       "    }\n",
       "\n",
       "    var fig = new mpl.figure(id, ws_proxy, ondownload, element);\n",
       "\n",
       "    // Call onopen now - mpl needs it, as it is assuming we've passed it a real\n",
       "    // web socket which is closed, not our websocket->open comm proxy.\n",
       "    ws_proxy.onopen();\n",
       "\n",
       "    fig.parent_element = element;\n",
       "    fig.cell_info = mpl.find_output_cell(\"<div id='\" + id + \"'></div>\");\n",
       "    if (!fig.cell_info) {\n",
       "        console.error('Failed to find cell for figure', id, fig);\n",
       "        return;\n",
       "    }\n",
       "    fig.cell_info[0].output_area.element.on(\n",
       "        'cleared',\n",
       "        { fig: fig },\n",
       "        fig._remove_fig_handler\n",
       "    );\n",
       "};\n",
       "\n",
       "mpl.figure.prototype.handle_close = function (fig, msg) {\n",
       "    var width = fig.canvas.width / fig.ratio;\n",
       "    fig.cell_info[0].output_area.element.off(\n",
       "        'cleared',\n",
       "        fig._remove_fig_handler\n",
       "    );\n",
       "    fig.resizeObserverInstance.unobserve(fig.canvas_div);\n",
       "\n",
       "    // Update the output cell to use the data from the current canvas.\n",
       "    fig.push_to_output();\n",
       "    var dataURL = fig.canvas.toDataURL();\n",
       "    // Re-enable the keyboard manager in IPython - without this line, in FF,\n",
       "    // the notebook keyboard shortcuts fail.\n",
       "    IPython.keyboard_manager.enable();\n",
       "    fig.parent_element.innerHTML =\n",
       "        '<img src=\"' + dataURL + '\" width=\"' + width + '\">';\n",
       "    fig.close_ws(fig, msg);\n",
       "};\n",
       "\n",
       "mpl.figure.prototype.close_ws = function (fig, msg) {\n",
       "    fig.send_message('closing', msg);\n",
       "    // fig.ws.close()\n",
       "};\n",
       "\n",
       "mpl.figure.prototype.push_to_output = function (_remove_interactive) {\n",
       "    // Turn the data on the canvas into data in the output cell.\n",
       "    var width = this.canvas.width / this.ratio;\n",
       "    var dataURL = this.canvas.toDataURL();\n",
       "    this.cell_info[1]['text/html'] =\n",
       "        '<img src=\"' + dataURL + '\" width=\"' + width + '\">';\n",
       "};\n",
       "\n",
       "mpl.figure.prototype.updated_canvas_event = function () {\n",
       "    // Tell IPython that the notebook contents must change.\n",
       "    IPython.notebook.set_dirty(true);\n",
       "    this.send_message('ack', {});\n",
       "    var fig = this;\n",
       "    // Wait a second, then push the new image to the DOM so\n",
       "    // that it is saved nicely (might be nice to debounce this).\n",
       "    setTimeout(function () {\n",
       "        fig.push_to_output();\n",
       "    }, 1000);\n",
       "};\n",
       "\n",
       "mpl.figure.prototype._init_toolbar = function () {\n",
       "    var fig = this;\n",
       "\n",
       "    var toolbar = document.createElement('div');\n",
       "    toolbar.classList = 'btn-toolbar';\n",
       "    this.root.appendChild(toolbar);\n",
       "\n",
       "    function on_click_closure(name) {\n",
       "        return function (_event) {\n",
       "            return fig.toolbar_button_onclick(name);\n",
       "        };\n",
       "    }\n",
       "\n",
       "    function on_mouseover_closure(tooltip) {\n",
       "        return function (event) {\n",
       "            if (!event.currentTarget.disabled) {\n",
       "                return fig.toolbar_button_onmouseover(tooltip);\n",
       "            }\n",
       "        };\n",
       "    }\n",
       "\n",
       "    fig.buttons = {};\n",
       "    var buttonGroup = document.createElement('div');\n",
       "    buttonGroup.classList = 'btn-group';\n",
       "    var button;\n",
       "    for (var toolbar_ind in mpl.toolbar_items) {\n",
       "        var name = mpl.toolbar_items[toolbar_ind][0];\n",
       "        var tooltip = mpl.toolbar_items[toolbar_ind][1];\n",
       "        var image = mpl.toolbar_items[toolbar_ind][2];\n",
       "        var method_name = mpl.toolbar_items[toolbar_ind][3];\n",
       "\n",
       "        if (!name) {\n",
       "            /* Instead of a spacer, we start a new button group. */\n",
       "            if (buttonGroup.hasChildNodes()) {\n",
       "                toolbar.appendChild(buttonGroup);\n",
       "            }\n",
       "            buttonGroup = document.createElement('div');\n",
       "            buttonGroup.classList = 'btn-group';\n",
       "            continue;\n",
       "        }\n",
       "\n",
       "        button = fig.buttons[name] = document.createElement('button');\n",
       "        button.classList = 'btn btn-default';\n",
       "        button.href = '#';\n",
       "        button.title = name;\n",
       "        button.innerHTML = '<i class=\"fa ' + image + ' fa-lg\"></i>';\n",
       "        button.addEventListener('click', on_click_closure(method_name));\n",
       "        button.addEventListener('mouseover', on_mouseover_closure(tooltip));\n",
       "        buttonGroup.appendChild(button);\n",
       "    }\n",
       "\n",
       "    if (buttonGroup.hasChildNodes()) {\n",
       "        toolbar.appendChild(buttonGroup);\n",
       "    }\n",
       "\n",
       "    // Add the status bar.\n",
       "    var status_bar = document.createElement('span');\n",
       "    status_bar.classList = 'mpl-message pull-right';\n",
       "    toolbar.appendChild(status_bar);\n",
       "    this.message = status_bar;\n",
       "\n",
       "    // Add the close button to the window.\n",
       "    var buttongrp = document.createElement('div');\n",
       "    buttongrp.classList = 'btn-group inline pull-right';\n",
       "    button = document.createElement('button');\n",
       "    button.classList = 'btn btn-mini btn-primary';\n",
       "    button.href = '#';\n",
       "    button.title = 'Stop Interaction';\n",
       "    button.innerHTML = '<i class=\"fa fa-power-off icon-remove icon-large\"></i>';\n",
       "    button.addEventListener('click', function (_evt) {\n",
       "        fig.handle_close(fig, {});\n",
       "    });\n",
       "    button.addEventListener(\n",
       "        'mouseover',\n",
       "        on_mouseover_closure('Stop Interaction')\n",
       "    );\n",
       "    buttongrp.appendChild(button);\n",
       "    var titlebar = this.root.querySelector('.ui-dialog-titlebar');\n",
       "    titlebar.insertBefore(buttongrp, titlebar.firstChild);\n",
       "};\n",
       "\n",
       "mpl.figure.prototype._remove_fig_handler = function (event) {\n",
       "    var fig = event.data.fig;\n",
       "    if (event.target !== this) {\n",
       "        // Ignore bubbled events from children.\n",
       "        return;\n",
       "    }\n",
       "    fig.close_ws(fig, {});\n",
       "};\n",
       "\n",
       "mpl.figure.prototype._root_extra_style = function (el) {\n",
       "    el.style.boxSizing = 'content-box'; // override notebook setting of border-box.\n",
       "};\n",
       "\n",
       "mpl.figure.prototype._canvas_extra_style = function (el) {\n",
       "    // this is important to make the div 'focusable\n",
       "    el.setAttribute('tabindex', 0);\n",
       "    // reach out to IPython and tell the keyboard manager to turn it's self\n",
       "    // off when our div gets focus\n",
       "\n",
       "    // location in version 3\n",
       "    if (IPython.notebook.keyboard_manager) {\n",
       "        IPython.notebook.keyboard_manager.register_events(el);\n",
       "    } else {\n",
       "        // location in version 2\n",
       "        IPython.keyboard_manager.register_events(el);\n",
       "    }\n",
       "};\n",
       "\n",
       "mpl.figure.prototype._key_event_extra = function (event, _name) {\n",
       "    var manager = IPython.notebook.keyboard_manager;\n",
       "    if (!manager) {\n",
       "        manager = IPython.keyboard_manager;\n",
       "    }\n",
       "\n",
       "    // Check for shift+enter\n",
       "    if (event.shiftKey && event.which === 13) {\n",
       "        this.canvas_div.blur();\n",
       "        // select the cell after this one\n",
       "        var index = IPython.notebook.find_cell_index(this.cell_info[0]);\n",
       "        IPython.notebook.select(index + 1);\n",
       "    }\n",
       "};\n",
       "\n",
       "mpl.figure.prototype.handle_save = function (fig, _msg) {\n",
       "    fig.ondownload(fig, null);\n",
       "};\n",
       "\n",
       "mpl.find_output_cell = function (html_output) {\n",
       "    // Return the cell and output element which can be found *uniquely* in the notebook.\n",
       "    // Note - this is a bit hacky, but it is done because the \"notebook_saving.Notebook\"\n",
       "    // IPython event is triggered only after the cells have been serialised, which for\n",
       "    // our purposes (turning an active figure into a static one), is too late.\n",
       "    var cells = IPython.notebook.get_cells();\n",
       "    var ncells = cells.length;\n",
       "    for (var i = 0; i < ncells; i++) {\n",
       "        var cell = cells[i];\n",
       "        if (cell.cell_type === 'code') {\n",
       "            for (var j = 0; j < cell.output_area.outputs.length; j++) {\n",
       "                var data = cell.output_area.outputs[j];\n",
       "                if (data.data) {\n",
       "                    // IPython >= 3 moved mimebundle to data attribute of output\n",
       "                    data = data.data;\n",
       "                }\n",
       "                if (data['text/html'] === html_output) {\n",
       "                    return [cell, data, j];\n",
       "                }\n",
       "            }\n",
       "        }\n",
       "    }\n",
       "};\n",
       "\n",
       "// Register the function which deals with the matplotlib target/channel.\n",
       "// The kernel may be null if the page has been refreshed.\n",
       "if (IPython.notebook.kernel !== null) {\n",
       "    IPython.notebook.kernel.comm_manager.register_target(\n",
       "        'matplotlib',\n",
       "        mpl.mpl_figure_comm\n",
       "    );\n",
       "}\n"
      ],
      "text/plain": [
       "<IPython.core.display.Javascript object>"
      ]
     },
     "metadata": {},
     "output_type": "display_data"
    },
    {
     "data": {
      "text/html": [
       "<img src=\"data:image/png;base64,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\" width=\"600\">"
      ],
      "text/plain": [
       "<IPython.core.display.HTML object>"
      ]
     },
     "metadata": {},
     "output_type": "display_data"
    }
   ],
   "source": [
    "\n",
    "fig, ax = plt.subplots(figsize=(6,3))\n",
    "#fig.set_tight_layout(True)\n",
    "\n",
    "x_i = np.arange(-3, 3, 0.1)\n",
    "y_i = x_i*(-27) -150\n",
    "ax.scatter(x_train, y_train)\n",
    "line, = ax.plot(x_i, x_i*50 - 4, 'r-', linewidth=2)\n",
    "\n",
    "def update(i):\n",
    "    label = 'epoch {0}'.format(i + 1)\n",
    "    line.set_ydata(x_i*all_m[i] + all_b[i])\n",
    "    ax.set_xlabel(label)\n",
    "    # return line, ax\n",
    "\n",
    "anim = FuncAnimation(fig, update, repeat=True, frames=epochs, interval=500)"
   ]
  },
  {
   "cell_type": "code",
   "execution_count": null,
   "id": "a5911c32",
   "metadata": {},
   "outputs": [],
   "source": []
  },
  {
   "cell_type": "code",
   "execution_count": null,
   "id": "89876879",
   "metadata": {},
   "outputs": [],
   "source": []
  },
  {
   "cell_type": "markdown",
   "id": "e1e62090",
   "metadata": {},
   "source": []
  },
  {
   "cell_type": "markdown",
   "id": "12efe9f0",
   "metadata": {},
   "source": [
    "### Gradient Descent with Multiple Input variable : "
   ]
  },
  {
   "cell_type": "code",
   "execution_count": null,
   "id": "d3ee38a8",
   "metadata": {},
   "outputs": [],
   "source": []
  },
  {
   "cell_type": "code",
   "execution_count": 33,
   "id": "93197f69",
   "metadata": {},
   "outputs": [],
   "source": [
    "from sklearn.datasets import load_diabetes"
   ]
  },
  {
   "cell_type": "code",
   "execution_count": 34,
   "id": "04b8a3a7",
   "metadata": {},
   "outputs": [],
   "source": [
    "from sklearn.metrics import r2_score"
   ]
  },
  {
   "cell_type": "code",
   "execution_count": 35,
   "id": "491ecfd6",
   "metadata": {},
   "outputs": [],
   "source": [
    "x,y = load_diabetes(return_X_y=True)"
   ]
  },
  {
   "cell_type": "code",
   "execution_count": 36,
   "id": "f58cf300",
   "metadata": {},
   "outputs": [
    {
     "data": {
      "text/plain": [
       "array([[ 0.03807591,  0.05068012,  0.06169621, ..., -0.00259226,\n",
       "         0.01990842, -0.01764613],\n",
       "       [-0.00188202, -0.04464164, -0.05147406, ..., -0.03949338,\n",
       "        -0.06832974, -0.09220405],\n",
       "       [ 0.08529891,  0.05068012,  0.04445121, ..., -0.00259226,\n",
       "         0.00286377, -0.02593034],\n",
       "       ...,\n",
       "       [ 0.04170844,  0.05068012, -0.01590626, ..., -0.01107952,\n",
       "        -0.04687948,  0.01549073],\n",
       "       [-0.04547248, -0.04464164,  0.03906215, ...,  0.02655962,\n",
       "         0.04452837, -0.02593034],\n",
       "       [-0.04547248, -0.04464164, -0.0730303 , ..., -0.03949338,\n",
       "        -0.00421986,  0.00306441]])"
      ]
     },
     "execution_count": 36,
     "metadata": {},
     "output_type": "execute_result"
    }
   ],
   "source": [
    "x"
   ]
  },
  {
   "cell_type": "code",
   "execution_count": 37,
   "id": "2c4dc12f",
   "metadata": {},
   "outputs": [
    {
     "data": {
      "text/plain": [
       "{'data':           age       sex       bmi        bp        s1        s2        s3  \\\n",
       " 0    0.038076  0.050680  0.061696  0.021872 -0.044223 -0.034821 -0.043401   \n",
       " 1   -0.001882 -0.044642 -0.051474 -0.026328 -0.008449 -0.019163  0.074412   \n",
       " 2    0.085299  0.050680  0.044451 -0.005671 -0.045599 -0.034194 -0.032356   \n",
       " 3   -0.089063 -0.044642 -0.011595 -0.036656  0.012191  0.024991 -0.036038   \n",
       " 4    0.005383 -0.044642 -0.036385  0.021872  0.003935  0.015596  0.008142   \n",
       " ..        ...       ...       ...       ...       ...       ...       ...   \n",
       " 437  0.041708  0.050680  0.019662  0.059744 -0.005697 -0.002566 -0.028674   \n",
       " 438 -0.005515  0.050680 -0.015906 -0.067642  0.049341  0.079165 -0.028674   \n",
       " 439  0.041708  0.050680 -0.015906  0.017282 -0.037344 -0.013840 -0.024993   \n",
       " 440 -0.045472 -0.044642  0.039062  0.001215  0.016318  0.015283 -0.028674   \n",
       " 441 -0.045472 -0.044642 -0.073030 -0.081414  0.083740  0.027809  0.173816   \n",
       " \n",
       "            s4        s5        s6  \n",
       " 0   -0.002592  0.019908 -0.017646  \n",
       " 1   -0.039493 -0.068330 -0.092204  \n",
       " 2   -0.002592  0.002864 -0.025930  \n",
       " 3    0.034309  0.022692 -0.009362  \n",
       " 4   -0.002592 -0.031991 -0.046641  \n",
       " ..        ...       ...       ...  \n",
       " 437 -0.002592  0.031193  0.007207  \n",
       " 438  0.034309 -0.018118  0.044485  \n",
       " 439 -0.011080 -0.046879  0.015491  \n",
       " 440  0.026560  0.044528 -0.025930  \n",
       " 441 -0.039493 -0.004220  0.003064  \n",
       " \n",
       " [442 rows x 10 columns],\n",
       " 'target': 0      151.0\n",
       " 1       75.0\n",
       " 2      141.0\n",
       " 3      206.0\n",
       " 4      135.0\n",
       "        ...  \n",
       " 437    178.0\n",
       " 438    104.0\n",
       " 439    132.0\n",
       " 440    220.0\n",
       " 441     57.0\n",
       " Name: target, Length: 442, dtype: float64,\n",
       " 'frame':           age       sex       bmi        bp        s1        s2        s3  \\\n",
       " 0    0.038076  0.050680  0.061696  0.021872 -0.044223 -0.034821 -0.043401   \n",
       " 1   -0.001882 -0.044642 -0.051474 -0.026328 -0.008449 -0.019163  0.074412   \n",
       " 2    0.085299  0.050680  0.044451 -0.005671 -0.045599 -0.034194 -0.032356   \n",
       " 3   -0.089063 -0.044642 -0.011595 -0.036656  0.012191  0.024991 -0.036038   \n",
       " 4    0.005383 -0.044642 -0.036385  0.021872  0.003935  0.015596  0.008142   \n",
       " ..        ...       ...       ...       ...       ...       ...       ...   \n",
       " 437  0.041708  0.050680  0.019662  0.059744 -0.005697 -0.002566 -0.028674   \n",
       " 438 -0.005515  0.050680 -0.015906 -0.067642  0.049341  0.079165 -0.028674   \n",
       " 439  0.041708  0.050680 -0.015906  0.017282 -0.037344 -0.013840 -0.024993   \n",
       " 440 -0.045472 -0.044642  0.039062  0.001215  0.016318  0.015283 -0.028674   \n",
       " 441 -0.045472 -0.044642 -0.073030 -0.081414  0.083740  0.027809  0.173816   \n",
       " \n",
       "            s4        s5        s6  target  \n",
       " 0   -0.002592  0.019908 -0.017646   151.0  \n",
       " 1   -0.039493 -0.068330 -0.092204    75.0  \n",
       " 2   -0.002592  0.002864 -0.025930   141.0  \n",
       " 3    0.034309  0.022692 -0.009362   206.0  \n",
       " 4   -0.002592 -0.031991 -0.046641   135.0  \n",
       " ..        ...       ...       ...     ...  \n",
       " 437 -0.002592  0.031193  0.007207   178.0  \n",
       " 438  0.034309 -0.018118  0.044485   104.0  \n",
       " 439 -0.011080 -0.046879  0.015491   132.0  \n",
       " 440  0.026560  0.044528 -0.025930   220.0  \n",
       " 441 -0.039493 -0.004220  0.003064    57.0  \n",
       " \n",
       " [442 rows x 11 columns],\n",
       " 'DESCR': '.. _diabetes_dataset:\\n\\nDiabetes dataset\\n----------------\\n\\nTen baseline variables, age, sex, body mass index, average blood\\npressure, and six blood serum measurements were obtained for each of n =\\n442 diabetes patients, as well as the response of interest, a\\nquantitative measure of disease progression one year after baseline.\\n\\n**Data Set Characteristics:**\\n\\n  :Number of Instances: 442\\n\\n  :Number of Attributes: First 10 columns are numeric predictive values\\n\\n  :Target: Column 11 is a quantitative measure of disease progression one year after baseline\\n\\n  :Attribute Information:\\n      - age     age in years\\n      - sex\\n      - bmi     body mass index\\n      - bp      average blood pressure\\n      - s1      tc, total serum cholesterol\\n      - s2      ldl, low-density lipoproteins\\n      - s3      hdl, high-density lipoproteins\\n      - s4      tch, total cholesterol / HDL\\n      - s5      ltg, possibly log of serum triglycerides level\\n      - s6      glu, blood sugar level\\n\\nNote: Each of these 10 feature variables have been mean centered and scaled by the standard deviation times `n_samples` (i.e. the sum of squares of each column totals 1).\\n\\nSource URL:\\nhttps://www4.stat.ncsu.edu/~boos/var.select/diabetes.html\\n\\nFor more information see:\\nBradley Efron, Trevor Hastie, Iain Johnstone and Robert Tibshirani (2004) \"Least Angle Regression,\" Annals of Statistics (with discussion), 407-499.\\n(https://web.stanford.edu/~hastie/Papers/LARS/LeastAngle_2002.pdf)',\n",
       " 'feature_names': ['age',\n",
       "  'sex',\n",
       "  'bmi',\n",
       "  'bp',\n",
       "  's1',\n",
       "  's2',\n",
       "  's3',\n",
       "  's4',\n",
       "  's5',\n",
       "  's6'],\n",
       " 'data_filename': 'C:\\\\Users\\\\sunny\\\\anaconda3\\\\lib\\\\site-packages\\\\sklearn\\\\datasets\\\\data\\\\diabetes_data.csv.gz',\n",
       " 'target_filename': 'C:\\\\Users\\\\sunny\\\\anaconda3\\\\lib\\\\site-packages\\\\sklearn\\\\datasets\\\\data\\\\diabetes_target.csv.gz'}"
      ]
     },
     "execution_count": 37,
     "metadata": {},
     "output_type": "execute_result"
    }
   ],
   "source": [
    "(load_diabetes(as_frame=True))"
   ]
  },
  {
   "cell_type": "code",
   "execution_count": 38,
   "id": "fd3a3082",
   "metadata": {},
   "outputs": [
    {
     "data": {
      "text/plain": [
       "(442, 10)"
      ]
     },
     "execution_count": 38,
     "metadata": {},
     "output_type": "execute_result"
    }
   ],
   "source": [
    "x.shape"
   ]
  },
  {
   "cell_type": "code",
   "execution_count": 39,
   "id": "be44b454",
   "metadata": {},
   "outputs": [
    {
     "data": {
      "text/plain": [
       "(442,)"
      ]
     },
     "execution_count": 39,
     "metadata": {},
     "output_type": "execute_result"
    }
   ],
   "source": [
    "y.shape"
   ]
  },
  {
   "cell_type": "code",
   "execution_count": 40,
   "id": "60b69bba",
   "metadata": {},
   "outputs": [],
   "source": [
    "x_train,x_test, y_train,y_test = train_test_split(x,y,test_size=0.2,random_state=2)"
   ]
  },
  {
   "cell_type": "code",
   "execution_count": 41,
   "id": "fcf12033",
   "metadata": {},
   "outputs": [
    {
     "data": {
      "text/plain": [
       "LinearRegression()"
      ]
     },
     "execution_count": 41,
     "metadata": {},
     "output_type": "execute_result"
    }
   ],
   "source": [
    "regModel = LinearRegression()\n",
    "regModel.fit(x_train,y_train)"
   ]
  },
  {
   "cell_type": "code",
   "execution_count": 42,
   "id": "4835ece5",
   "metadata": {},
   "outputs": [
    {
     "data": {
      "text/plain": [
       "array([  -9.16088483, -205.46225988,  516.68462383,  340.62734108,\n",
       "       -895.54360867,  561.21453306,  153.88478595,  126.73431596,\n",
       "        861.12139955,   52.41982836])"
      ]
     },
     "execution_count": 42,
     "metadata": {},
     "output_type": "execute_result"
    }
   ],
   "source": [
    "regModel.coef_"
   ]
  },
  {
   "cell_type": "code",
   "execution_count": 43,
   "id": "d8766ec8",
   "metadata": {},
   "outputs": [
    {
     "data": {
      "text/plain": [
       "151.88334520854633"
      ]
     },
     "execution_count": 43,
     "metadata": {},
     "output_type": "execute_result"
    }
   ],
   "source": [
    "regModel.intercept_"
   ]
  },
  {
   "cell_type": "code",
   "execution_count": 44,
   "id": "09ef9991",
   "metadata": {},
   "outputs": [
    {
     "data": {
      "text/plain": [
       "0.4399387660024644"
      ]
     },
     "execution_count": 44,
     "metadata": {},
     "output_type": "execute_result"
    }
   ],
   "source": [
    "y_pred = regModel.predict(x_test)\n",
    "r2_score(y_test,y_pred)"
   ]
  },
  {
   "cell_type": "code",
   "execution_count": 45,
   "id": "22ed323a",
   "metadata": {},
   "outputs": [
    {
     "data": {
      "text/plain": [
       "(353, 10)"
      ]
     },
     "execution_count": 45,
     "metadata": {},
     "output_type": "execute_result"
    }
   ],
   "source": [
    "x_train.shape # means we will have 10 coefficients\n"
   ]
  },
  {
   "cell_type": "markdown",
   "id": "6c81c2a6",
   "metadata": {},
   "source": [
    "    yhat = w1x1 + wx2x + w3x3 +.... + wnxn+ w0\n",
    "\n",
    "\n",
    "    yhat = w0 + [ w1 , w2 , w3 , ... , wn]*[ x1,   \n",
    "                                             x2,\n",
    "                                             x3,\n",
    "                                               .\n",
    "                                               .,\n",
    "                                            xn]\n",
    "                                            \n",
    "                                            \n",
    "    yhat = w0 + np.dot(w_vector  , x_train_data)\n",
    "         = w0 + np.dot(coef_,x_train)"
   ]
  },
  {
   "cell_type": "code",
   "execution_count": 46,
   "id": "eeaf8a68",
   "metadata": {},
   "outputs": [],
   "source": [
    "class GDRegressor:\n",
    "    \n",
    "    def __init__(self,lr = 0.01, epochs = 100):\n",
    "        self.coef_ = None\n",
    "        self.intercept_ = None\n",
    "        self.lr = lr\n",
    "        self.epochs = epochs\n",
    "    \n",
    "    def fit(self,x_train,y_train):\n",
    "        \n",
    "        # Initialize intercept  and slopes(coefficients) \n",
    "        self.intercept_ = 0\n",
    "        self.coef_ = np.ones(x_train.shape[1])\n",
    "        \n",
    "        for i in range(self.epochs):\n",
    "            # update all the coef and intercept\n",
    "            \n",
    "            y_hat = np.dot(x_train, self.coef_) + self.intercept_\n",
    "#             print(\"shape of y_hat : \",y_hat.shape)\n",
    "            derivative_wrt_intercept = -2 * np.mean( y_train - y_hat)\n",
    "            self.intercept_ = self.intercept_ - (self.lr * derivative_wrt_intercept )\n",
    "            \n",
    "            \n",
    "            derivative_wrt_coefficients = -2 * np.dot((y_train - y_hat),x_train)/x_train.shape[0]\n",
    "            self.coef_ = self.coef_ - (self.lr * derivative_wrt_coefficients)\n",
    "        \n",
    "        print(self.intercept_)\n",
    "        print(self.coef_)\n",
    "        \n",
    "    \n",
    "    def predict(self,x_test):\n",
    "        return np.dot(x_test, self.coef_) + self.intercept_"
   ]
  },
  {
   "cell_type": "code",
   "execution_count": null,
   "id": "5edecc67",
   "metadata": {},
   "outputs": [],
   "source": []
  },
  {
   "cell_type": "code",
   "execution_count": 47,
   "id": "58d8e38a",
   "metadata": {},
   "outputs": [],
   "source": [
    "gdr_model = GDRegressor(lr= 0.8,epochs=10000)"
   ]
  },
  {
   "cell_type": "code",
   "execution_count": 48,
   "id": "bffaebe7",
   "metadata": {},
   "outputs": [
    {
     "name": "stdout",
     "output_type": "stream",
     "text": [
      "151.89315745108902\n",
      "[  -7.79800191 -200.48607149  529.88987852  338.24948917 -261.5256915\n",
      "   54.39335357 -124.42802536   53.11388492  622.21987785   53.54231647]\n"
     ]
    }
   ],
   "source": [
    "gdr_model.fit(x_train,y_train)"
   ]
  },
  {
   "cell_type": "code",
   "execution_count": 49,
   "id": "5bcd56af",
   "metadata": {},
   "outputs": [
    {
     "data": {
      "text/plain": [
       "array([  -9.16088483, -205.46225988,  516.68462383,  340.62734108,\n",
       "       -895.54360867,  561.21453306,  153.88478595,  126.73431596,\n",
       "        861.12139955,   52.41982836])"
      ]
     },
     "execution_count": 49,
     "metadata": {},
     "output_type": "execute_result"
    }
   ],
   "source": [
    "regModel.coef_"
   ]
  },
  {
   "cell_type": "code",
   "execution_count": 50,
   "id": "f22d6d50",
   "metadata": {},
   "outputs": [
    {
     "data": {
      "text/plain": [
       "151.88334520854633"
      ]
     },
     "execution_count": 50,
     "metadata": {},
     "output_type": "execute_result"
    }
   ],
   "source": [
    "regModel.intercept_"
   ]
  },
  {
   "cell_type": "code",
   "execution_count": 51,
   "id": "258e6fcf",
   "metadata": {},
   "outputs": [],
   "source": [
    "y_pred = gdr_model.predict(x_test)\n"
   ]
  },
  {
   "cell_type": "code",
   "execution_count": 52,
   "id": "9228d5cb",
   "metadata": {},
   "outputs": [
    {
     "data": {
      "text/plain": [
       "0.44263544346249706"
      ]
     },
     "execution_count": 52,
     "metadata": {},
     "output_type": "execute_result"
    }
   ],
   "source": [
    "r2_score(y_test,y_pred)"
   ]
  },
  {
   "cell_type": "code",
   "execution_count": null,
   "id": "4738a034",
   "metadata": {},
   "outputs": [],
   "source": []
  },
  {
   "cell_type": "code",
   "execution_count": null,
   "id": "af9cbd34",
   "metadata": {},
   "outputs": [],
   "source": []
  },
  {
   "cell_type": "code",
   "execution_count": null,
   "id": "640987bc",
   "metadata": {},
   "outputs": [],
   "source": []
  },
  {
   "cell_type": "code",
   "execution_count": null,
   "id": "d5dc803f",
   "metadata": {},
   "outputs": [],
   "source": []
  },
  {
   "cell_type": "code",
   "execution_count": null,
   "id": "830d4cd5",
   "metadata": {},
   "outputs": [],
   "source": []
  },
  {
   "cell_type": "code",
   "execution_count": null,
   "id": "307a8196",
   "metadata": {},
   "outputs": [],
   "source": []
  },
  {
   "cell_type": "code",
   "execution_count": null,
   "id": "4c1c0218",
   "metadata": {},
   "outputs": [],
   "source": []
  },
  {
   "cell_type": "code",
   "execution_count": null,
   "id": "11cf4140",
   "metadata": {},
   "outputs": [],
   "source": []
  },
  {
   "cell_type": "code",
   "execution_count": null,
   "id": "f5043e99",
   "metadata": {},
   "outputs": [],
   "source": []
  }
 ],
 "metadata": {
  "kernelspec": {
   "display_name": "Python 3 (ipykernel)",
   "language": "python",
   "name": "python3"
  },
  "language_info": {
   "codemirror_mode": {
    "name": "ipython",
    "version": 3
   },
   "file_extension": ".py",
   "mimetype": "text/x-python",
   "name": "python",
   "nbconvert_exporter": "python",
   "pygments_lexer": "ipython3",
   "version": "3.9.7"
  }
 },
 "nbformat": 4,
 "nbformat_minor": 5
}
